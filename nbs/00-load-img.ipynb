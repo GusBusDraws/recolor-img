{
 "cells": [
  {
   "cell_type": "code",
   "execution_count": null,
   "id": "9cd9f0c4",
   "metadata": {},
   "outputs": [],
   "source": [
    "# Standard library import\n",
    "import os\n",
    "# Third party imports\n",
    "import numpy as np\n",
    "import matplotlib.pyplot as plt\n",
    "import napari\n",
    "import pandas as pd\n",
    "import plotly.express as px\n",
    "from skimage import io, color"
   ]
  },
  {
   "cell_type": "markdown",
   "id": "3d674ed1",
   "metadata": {},
   "source": [
    "# Check that images exist"
   ]
  },
  {
   "cell_type": "code",
   "execution_count": null,
   "id": "fe17ae06",
   "metadata": {},
   "outputs": [],
   "source": [
    "name_4_path = os.path.join('..', 'data', 'Name_4.png')\n",
    "os.path.exists(name_4_path)"
   ]
  },
  {
   "cell_type": "markdown",
   "id": "33f2c6fd",
   "metadata": {},
   "source": [
    "# Plot image using Plotly"
   ]
  },
  {
   "cell_type": "code",
   "execution_count": null,
   "id": "2363d000",
   "metadata": {},
   "outputs": [],
   "source": [
    "img_4 = io.imread(name_4_path)\n",
    "print(img_4.shape)\n",
    "px.imshow(img_4)"
   ]
  },
  {
   "cell_type": "markdown",
   "id": "27ffd326",
   "metadata": {},
   "source": [
    "# Plot histograms for each channel using Matplotlib"
   ]
  },
  {
   "cell_type": "code",
   "execution_count": null,
   "id": "dcfe0cd6",
   "metadata": {},
   "outputs": [],
   "source": [
    "fig, axes = plt.subplots(nrows=1, ncols=4, figsize=(20, 5))\n",
    "for i in range(4):\n",
    "    axes[i].hist(img_4[:, :, i].ravel(), bins=256)\n",
    "    \n",
    "plt.tight_layout()\n",
    "plt.show()"
   ]
  },
  {
   "cell_type": "markdown",
   "id": "f6aa5ea3",
   "metadata": {},
   "source": [
    "# Use napari for in-depth exploration"
   ]
  },
  {
   "cell_type": "code",
   "execution_count": null,
   "id": "b6b93a2e",
   "metadata": {},
   "outputs": [],
   "source": [
    "# Open a napari window\n",
    "viewer = napari.Viewer()"
   ]
  },
  {
   "cell_type": "code",
   "execution_count": null,
   "id": "12e16ffa",
   "metadata": {},
   "outputs": [],
   "source": [
    "# Add image to viewer\n",
    "viewer.add_image(img_4)"
   ]
  },
  {
   "cell_type": "markdown",
   "id": "427d030a",
   "metadata": {},
   "source": [
    "# Create test mask for alpha channel"
   ]
  },
  {
   "cell_type": "code",
   "execution_count": null,
   "id": "1013d339",
   "metadata": {},
   "outputs": [],
   "source": [
    "print(img_4.shape)\n",
    "print(img_4.shape[0])"
   ]
  },
  {
   "cell_type": "code",
   "execution_count": null,
   "id": "341cf7e1",
   "metadata": {},
   "outputs": [],
   "source": [
    "# Create an array with the same number of rows and cols as image, filled with zeros\n",
    "alpha_mask = np.zeros((img_4.shape[0], img_4.shape[1]))\n",
    "print(alpha_mask.shape)\n",
    "print(alpha_mask.min())\n",
    "print(alpha_mask.max())\n",
    "print(alpha_mask)\n",
    "viewer.add_image(alpha_mask)"
   ]
  },
  {
   "cell_type": "code",
   "execution_count": null,
   "id": "66f3d7ea",
   "metadata": {},
   "outputs": [],
   "source": [
    "# Change any pixel value where channel 4 of image is less than 255 to 1\n",
    "alpha_mask[img_4[:, :, 3] < 255] = 1\n",
    "viewer.add_image(alpha_mask)"
   ]
  },
  {
   "cell_type": "code",
   "execution_count": null,
   "id": "8cef932f",
   "metadata": {},
   "outputs": [],
   "source": [
    "# Reset mask to all zeros\n",
    "alpha_mask = np.zeros((img_4.shape[0], img_4.shape[1]))\n",
    "# Change any pixel value where channel 4 of image is greater than 0 to 1\n",
    "alpha_mask[img_4[:, :, 3] > 0] = 1\n",
    "viewer.add_image(alpha_mask)"
   ]
  },
  {
   "cell_type": "markdown",
   "id": "44d4f199",
   "metadata": {},
   "source": [
    "# Create mask for FeK\n",
    "FeK values: [187, 94, 59, 255], [251, 126, 79, 255]"
   ]
  },
  {
   "cell_type": "code",
   "execution_count": null,
   "id": "9d69bd31",
   "metadata": {},
   "outputs": [],
   "source": [
    "# Reset mask to all zeros\n",
    "fek_mask = np.zeros((img_4.shape[0], img_4.shape[1]))\n",
    "# Change any pixel value where channel 0 is 247 to 1\n",
    "fek_mask[\n",
    "    (img_4[:, :, 0] > 200) & (img_4[:, :, 0] < 255) \n",
    "    & (img_4[:, :, 1] > 50) & (img_4[:, :, 1] < 150)\n",
    "    & (img_4[:, :, 2] > 50) & (img_4[:, :, 2] < 100)\n",
    "] = 1\n",
    "viewer.add_image(fek_mask)"
   ]
  },
  {
   "cell_type": "markdown",
   "id": "e3eecb96",
   "metadata": {},
   "source": [
    "# Convert color space to HSV"
   ]
  },
  {
   "cell_type": "code",
   "execution_count": null,
   "id": "bbf2d457",
   "metadata": {},
   "outputs": [],
   "source": [
    "# Exclude channel 4 of image (alpha values)\n",
    "img_4_hsv = color.rgb2hsv(img_4[:, :, 0:3])\n",
    "\n",
    "# If changes made while in HSV space, convert BACK to RGB\n",
    "img_4_rgb = color.hsv2rgb(img_4_hsv[:, :, 0:3])\n",
    "px.imshow(img_4_rgb)"
   ]
  },
  {
   "cell_type": "code",
   "execution_count": null,
   "id": "5ebc5a35",
   "metadata": {},
   "outputs": [],
   "source": [
    "fig, axes = plt.subplots(nrows=1, ncols=3, figsize=(15, 5))\n",
    "for i in range(3):\n",
    "    axes[i].hist(img_4_hsv[:, :, i].ravel(), bins=256)\n",
    "    \n",
    "plt.tight_layout()\n",
    "plt.show()"
   ]
  },
  {
   "cell_type": "code",
   "execution_count": null,
   "id": "9eb5a852",
   "metadata": {},
   "outputs": [],
   "source": [
    "# Reset mask to all zeros\n",
    "tri_mask = np.zeros((img_4_hsv.shape[0], img_4_hsv.shape[1]))\n",
    "# Change any pixel value where channel 0 is in range 0.04 to 0.05 to have a value in tri_mask of 0.33 (arbitrary)\n",
    "tri_mask[\n",
    "    (img_4_hsv[:, :, 0] > 0.04) & (img_4_hsv[:, :, 0] < 0.05) \n",
    "] = 0.33\n",
    "# Change any pixel value where channel 0 is in range 0.08 to 0.1 to have a value in tri_mask of 0.66 (arbitrary)\n",
    "tri_mask[\n",
    "    (img_4_hsv[:, :, 0] > 0.08) & (img_4_hsv[:, :, 0] < 0.1) \n",
    "] = 0.66\n",
    "# Change any pixel value where channel 0 is in range 0.1 to 0.12 to have a value in tri_mask of 1 (arbitrary)\n",
    "tri_mask[\n",
    "    (img_4_hsv[:, :, 0] > 0.1) & (img_4_hsv[:, :, 0] < 0.12) \n",
    "] = 1\n",
    "\n",
    "viewer.add_image(tri_mask)"
   ]
  },
  {
   "cell_type": "code",
   "execution_count": null,
   "id": "657029cd",
   "metadata": {},
   "outputs": [],
   "source": [
    "# Reset mask to all zeros\n",
    "sat_mask = np.zeros((img_4_hsv.shape[0], img_4_hsv.shape[1]))\n",
    "\n",
    "sat_mask[\n",
    "    (img_4_hsv[:, :, 1] > 0.1) & (img_4_hsv[:, :, 1] < 0.3) \n",
    "] = 0.5\n",
    "sat_mask[\n",
    "    (img_4_hsv[:, :, 1] > 0.3) & (img_4_hsv[:, :, 1] < 1) \n",
    "] = 1\n",
    "\n",
    "viewer.add_image(sat_mask)"
   ]
  },
  {
   "cell_type": "code",
   "execution_count": null,
   "id": "200ece9a",
   "metadata": {},
   "outputs": [],
   "source": [
    "# Reset mask to all zeros\n",
    "tri_mask_w_sat = np.zeros((img_4_hsv.shape[0], img_4_hsv.shape[1]))\n",
    "# Change any pixel value where channel 0 is in range 0.04 to 0.05 to have a value in tri_mask of 0.33 (arbitrary)\n",
    "tri_mask_w_sat[\n",
    "    (img_4_hsv[:, :, 0] > 0.04) & (img_4_hsv[:, :, 0] < 0.05) \n",
    "] = 0.33\n",
    "# Change any pixel value where channel 0 is in range 0.08 to 0.1 AND channel 1 is in range 0.3 to 1\n",
    "# to have a value in tri_mask of 0.66 (arbitrary)\n",
    "tri_mask_w_sat[\n",
    "    (img_4_hsv[:, :, 0] > 0.08) & (img_4_hsv[:, :, 0] < 0.1)\n",
    "    & (img_4_hsv[:, :, 1] > 0.3) & (img_4_hsv[:, :, 1] < 1)\n",
    "] = 0.66\n",
    "# Change any pixel value where channel 0 is in range 0.1 to 0.12 to have a value in tri_mask of 1 (arbitrary)\n",
    "tri_mask_w_sat[\n",
    "    (img_4_hsv[:, :, 0] > 0.1) & (img_4_hsv[:, :, 0] < 0.12) \n",
    "] = 1\n",
    "\n",
    "viewer.add_image(tri_mask_w_sat)"
   ]
  },
  {
   "cell_type": "code",
   "execution_count": null,
   "id": "faf6e32f",
   "metadata": {},
   "outputs": [],
   "source": [
    "# Reset mask to all zeros\n",
    "tri_mask_split_mid = np.zeros((img_4_hsv.shape[0], img_4_hsv.shape[1]))\n",
    "\n",
    "tri_mask_split_mid[\n",
    "    (img_4_hsv[:, :, 0] > 0.04) & (img_4_hsv[:, :, 0] < 0.05) \n",
    "] = 0.33\n",
    "\n",
    "tri_mask_split_mid[\n",
    "    (img_4_hsv[:, :, 0] > 0.08) & (img_4_hsv[:, :, 0] < 0.09)\n",
    "] = 0.66\n",
    "# Change any pixel value where channel 0 is in range 0.1 to 0.12 to have a value in tri_mask of 1 (arbitrary)\n",
    "tri_mask_split_mid[\n",
    "    (img_4_hsv[:, :, 0] > 0.1) & (img_4_hsv[:, :, 0] < 0.12) \n",
    "] = 1\n",
    "\n",
    "viewer.add_image(tri_mask_split_mid)"
   ]
  },
  {
   "cell_type": "markdown",
   "id": "e37416c0",
   "metadata": {},
   "source": [
    "# Recolor image based on mask values"
   ]
  },
  {
   "cell_type": "code",
   "execution_count": null,
   "id": "7d0fe397",
   "metadata": {},
   "outputs": [],
   "source": [
    "img_4_copy = np.copy(img_4[:, :, 0:3])\n",
    "img_4_copy[tri_mask[:, :] == 0.33] = [0, 0, 255]\n",
    "px.imshow(img_4_copy)"
   ]
  },
  {
   "cell_type": "code",
   "execution_count": null,
   "id": "7226eb85",
   "metadata": {},
   "outputs": [],
   "source": []
  }
 ],
 "metadata": {
  "kernelspec": {
   "display_name": "Python 3",
   "language": "python",
   "name": "python3"
  },
  "language_info": {
   "codemirror_mode": {
    "name": "ipython",
    "version": 3
   },
   "file_extension": ".py",
   "mimetype": "text/x-python",
   "name": "python",
   "nbconvert_exporter": "python",
   "pygments_lexer": "ipython3",
   "version": "3.9.5"
  }
 },
 "nbformat": 4,
 "nbformat_minor": 5
}
